{
 "cells": [
  {
   "cell_type": "code",
   "execution_count": 22,
   "metadata": {},
   "outputs": [
    {
     "name": "stdout",
     "output_type": "stream",
     "text": [
      "Enter the first side3\n",
      "Enter the second side4\n",
      "Enter the third side5\n",
      "6.0\n"
     ]
    }
   ],
   "source": [
    "class side:\n",
    "    def __init__(self):\n",
    "      self.a = int(input(\"Enter the first side\"))\n",
    "      self.b = int(input(\"Enter the second side\"))\n",
    "      self.c = int(input(\"Enter the third side\"))\n",
    "\n",
    "class triangle(side):\n",
    "    def __init__(self,*args):\n",
    "        super().__init__(*args)\n",
    "    def __str__(self):\n",
    "        s = ((self.a + self.b + self.c)/2)\n",
    "        area = str((s*(s-self.a)*(s-self.b)*(s-self.c)) ** 0.5)\n",
    "        return area\n",
    "s = triangle()\n",
    "print(s)"
   ]
  },
  {
   "cell_type": "code",
   "execution_count": 32,
   "metadata": {},
   "outputs": [
    {
     "data": {
      "text/plain": [
       "['sameep']"
      ]
     },
     "execution_count": 32,
     "metadata": {},
     "output_type": "execute_result"
    }
   ],
   "source": [
    "def filter_long_words(lst,n):\n",
    "    res=[]\n",
    "    for i in lst:\n",
    "        if len(i)>n:\n",
    "            res.append(i)\n",
    "    return res\n",
    "filter_long_words(['sameep','kumar','rom'],5)"
   ]
  },
  {
   "cell_type": "code",
   "execution_count": 35,
   "metadata": {},
   "outputs": [
    {
     "data": {
      "text/plain": [
       "[6, 5, 9]"
      ]
     },
     "execution_count": 35,
     "metadata": {},
     "output_type": "execute_result"
    }
   ],
   "source": [
    "def return_length_of_words(lst):\n",
    "    res=[]\n",
    "    for i in lst:\n",
    "        res.append(len(i))\n",
    "    return res\n",
    "return_length_of_words(['sameep','kumar','panihrahi'])"
   ]
  },
  {
   "cell_type": "code",
   "execution_count": 7,
   "metadata": {},
   "outputs": [
    {
     "data": {
      "text/plain": [
       "False"
      ]
     },
     "execution_count": 7,
     "metadata": {},
     "output_type": "execute_result"
    }
   ],
   "source": [
    "def identify(ch):\n",
    "    if(len(ch)>0 and len(ch)<2):\n",
    "        if (ord(ch) >= 65 and ord(ch) <= 90) or (ord(ch) >= 97 and ord(ch) <= 122):\n",
    "            if(ch.lower() in 'aeiou'):\n",
    "                return True\n",
    "            else:\n",
    "                return False\n",
    "        else:\n",
    "            return 'Not a valid character'\n",
    "    return 'invalid'\n",
    "identify('d')"
   ]
  }
 ],
 "metadata": {
  "kernelspec": {
   "display_name": "Python 3",
   "language": "python",
   "name": "python3"
  },
  "language_info": {
   "codemirror_mode": {
    "name": "ipython",
    "version": 3
   },
   "file_extension": ".py",
   "mimetype": "text/x-python",
   "name": "python",
   "nbconvert_exporter": "python",
   "pygments_lexer": "ipython3",
   "version": "3.7.6"
  }
 },
 "nbformat": 4,
 "nbformat_minor": 4
}
