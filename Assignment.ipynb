{
 "cells": [
  {
   "cell_type": "code",
   "execution_count": 7,
   "metadata": {},
   "outputs": [
    {
     "name": "stdout",
     "output_type": "stream",
     "text": [
      "[2007, 2014, 2021, 2028, 2042, 2049, 2056, 2063, 2077, 2084, 2091, 2098, 2112, 2119, 2126, 2133, 2147, 2154, 2161, 2168, 2182, 2189, 2196, 2203, 2217, 2224, 2231, 2238, 2252, 2259, 2266, 2273, 2287, 2294, 2301, 2308, 2322, 2329, 2336, 2343, 2357, 2364, 2371, 2378, 2392, 2399, 2406, 2413, 2427, 2434, 2441, 2448, 2462, 2469, 2476, 2483, 2497, 2504, 2511, 2518, 2532, 2539, 2546, 2553, 2567, 2574, 2581, 2588, 2602, 2609, 2616, 2623, 2637, 2644, 2651, 2658, 2672, 2679, 2686, 2693, 2707, 2714, 2721, 2728, 2742, 2749, 2756, 2763, 2777, 2784, 2791, 2798, 2812, 2819, 2826, 2833, 2847, 2854, 2861, 2868, 2882, 2889, 2896, 2903, 2917, 2924, 2931, 2938, 2952, 2959, 2966, 2973, 2987, 2994]\n"
     ]
    }
   ],
   "source": [
    "m=[]\n",
    "for k in list(range(2000,3001,7)):\n",
    "    if(k%5!=0):\n",
    "       m.append(k)\n",
    "print(m)\n"
   ]
  },
  {
   "cell_type": "code",
   "execution_count": 9,
   "metadata": {},
   "outputs": [
    {
     "name": "stdout",
     "output_type": "stream",
     "text": [
      "Enter your first namesameep\n",
      "Enter your second namepanigrahi\n"
     ]
    },
    {
     "data": {
      "text/plain": [
       "'iharginap peemas'"
      ]
     },
     "execution_count": 9,
     "metadata": {},
     "output_type": "execute_result"
    }
   ],
   "source": [
    "first_name=input(\"Enter your first name\")\n",
    "sec_name=input(\"Enter your second name\")\n",
    "s=first_name+\" \"+sec_name\n",
    "s[::-1]"
   ]
  },
  {
   "cell_type": "code",
   "execution_count": 13,
   "metadata": {},
   "outputs": [
    {
     "name": "stdout",
     "output_type": "stream",
     "text": [
      "7238.229473870883\n"
     ]
    }
   ],
   "source": [
    "import math\n",
    "r=12\n",
    "v=4/3*math.pi*r*r*r\n",
    "print(v)"
   ]
  },
  {
   "cell_type": "code",
   "execution_count": null,
   "metadata": {},
   "outputs": [],
   "source": []
  }
 ],
 "metadata": {
  "kernelspec": {
   "display_name": "Python 3",
   "language": "python",
   "name": "python3"
  },
  "language_info": {
   "codemirror_mode": {
    "name": "ipython",
    "version": 3
   },
   "file_extension": ".py",
   "mimetype": "text/x-python",
   "name": "python",
   "nbconvert_exporter": "python",
   "pygments_lexer": "ipython3",
   "version": "3.7.6"
  }
 },
 "nbformat": 4,
 "nbformat_minor": 4
}
